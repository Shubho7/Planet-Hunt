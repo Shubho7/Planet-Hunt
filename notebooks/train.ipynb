{
 "cells": [
  {
   "cell_type": "code",
   "execution_count": 2,
   "metadata": {},
   "outputs": [],
   "source": [
    "import numpy as np\n",
    "import pandas as pd\n",
    "from sklearn.model_selection import train_test_split\n",
    "from sklearn.preprocessing import StandardScaler\n",
    "from tensorflow import keras\n",
    "import matplotlib.pyplot as plt\n",
    "from sklearn.metrics import classification_report"
   ]
  },
  {
   "cell_type": "code",
   "execution_count": 3,
   "metadata": {},
   "outputs": [],
   "source": [
    "# Load the data\n",
    "df = pd.read_excel(\"C:/Users/baner/Documents/Planet-Hunt/data/Study_of_exoplanets.xlsx\")\n",
    "\n",
    "# Data preprocessing\n",
    "M = df.P_MASS.median()\n",
    "df['P_MASS'] = df.P_MASS.fillna(M)\n",
    "R = df.P_RADIUS.median()\n",
    "df['P_RADIUS'] = df.P_RADIUS.fillna(R)\n",
    "P = df.P_PERIOD.median()\n",
    "df['P_PERIOD'] = df.P_PERIOD.fillna(P)\n",
    "S = df.P_SEMI_MAJOR_AXIS.median()\n",
    "df['P_SEMI_MAJOR_AXIS'] = df.P_SEMI_MAJOR_AXIS.fillna(S)\n",
    "E = df.P_ECCENTRICITY.median()\n",
    "df['P_ECCENTRICITY'] = df.P_ECCENTRICITY.fillna(E)\n",
    "I = df.P_INCLINATION.median()\n",
    "df['P_INCLINATION'] = df.P_INCLINATION.fillna(I)\n",
    "Es = df.P_ESCAPE.median() \n",
    "df['P_ESCAPE'] = df.P_ESCAPE.fillna(Es)\n",
    "Pot = df.P_POTENTIAL.median()\n",
    "df['P_POTENTIAL'] = df.P_POTENTIAL.fillna(Pot)\n",
    "G = df.P_GRAVITY.median()\n",
    "df['P_GRAVITY'] = df.P_GRAVITY.fillna(G)\n",
    "D = df.P_DENSITY.median()\n",
    "df['P_DENSITY'] = df.P_DENSITY.fillna(D)"
   ]
  }
 ],
 "metadata": {
  "kernelspec": {
   "display_name": "Python 3",
   "language": "python",
   "name": "python3"
  },
  "language_info": {
   "codemirror_mode": {
    "name": "ipython",
    "version": 3
   },
   "file_extension": ".py",
   "mimetype": "text/x-python",
   "name": "python",
   "nbconvert_exporter": "python",
   "pygments_lexer": "ipython3",
   "version": "3.12.4"
  }
 },
 "nbformat": 4,
 "nbformat_minor": 2
}
